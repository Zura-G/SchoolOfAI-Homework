{
 "cells": [
  {
   "cell_type": "code",
   "execution_count": null,
   "metadata": {},
   "outputs": [],
   "source": [
    "%load_ext autoreload\n",
    "%autoreload 2\n",
    "\n",
    "%matplotlib inline"
   ]
  },
  {
   "cell_type": "markdown",
   "metadata": {},
   "source": [
    "## Basic setup"
   ]
  },
  {
   "cell_type": "markdown",
   "metadata": {},
   "source": [
    "Create anaconda environment\n",
    "<br>\n",
    "```bash\n",
    "conda create -n ml python=3.7.4 jupyter\n",
    "```\n",
    "Install fastai library\n",
    "<br>\n",
    "```bash\n",
    "conda install -c pytorch -c fastai fastai\n",
    "```"
   ]
  },
  {
   "cell_type": "markdown",
   "metadata": {},
   "source": [
    "# Set theory basics"
   ]
  },
  {
   "cell_type": "markdown",
   "metadata": {},
   "source": [
    "#### Prove that:\n",
    "<br>\n",
    "$A \\subseteq A$"
   ]
  },
  {
   "cell_type": "markdown",
   "metadata": {},
   "source": [
    "1) If for every $x$ element of $B$, $x \\in A$, we say that $B\\subseteq A$. It is obvious that for every $x$ element of $A$, $x\\in A \\Rightarrow  A\\subseteq A$"
   ]
  },
  {
   "cell_type": "markdown",
   "metadata": {},
   "source": [
    "#### Prove that:\n",
    "<br>\n",
    "If $A \\subseteq B$ and $B \\subseteq A$ $\\to$ $A = B$"
   ]
  },
  {
   "cell_type": "markdown",
   "metadata": {},
   "source": [
    "2) For every element $x\\in A$ we have that $x\\in B$, also for every element $x\\in B$ we have that $x\\in A$, therefore if we have any element of $A$ or $B$ it is the element of $B$ or $A$ as well, therefore $A=B$."
   ]
  },
  {
   "cell_type": "markdown",
   "metadata": {},
   "source": [
    "#### Prove that:\n",
    "<br>\n",
    "if $B \\subset A$ then $A \\cap B = B$"
   ]
  },
  {
   "cell_type": "markdown",
   "metadata": {},
   "source": [
    "3) For any $D$ such that $D\\subseteq A$ and $D\\subseteq B$ we have that $D\\subseteq A\\cap B$, also $B\\subseteq A$ therefore $D=B$ and $A\\cap B=B$"
   ]
  },
  {
   "cell_type": "markdown",
   "metadata": {},
   "source": [
    "#### Prove that:\n",
    "<br>\n",
    "$A \\cap B = B \\cap A$"
   ]
  },
  {
   "cell_type": "markdown",
   "metadata": {},
   "source": [
    "4) For any $D$ such that $D\\subseteq A$ and $D\\subseteq B$ we have that $D\\subseteq A\\cap B$, also for any $D$ such that $D\\subseteq B$ and $D\\subseteq A$ we have that $D\\subseteq B\\cap A$, therefore $A\\cap B=B\\cap A$"
   ]
  },
  {
   "cell_type": "markdown",
   "metadata": {},
   "source": [
    "#### Prove that:\n",
    "<br>\n",
    "if $B \\subset A$ then $A \\cup B = A$"
   ]
  },
  {
   "cell_type": "markdown",
   "metadata": {},
   "source": [
    "5) For any $D$ such that $A\\subseteq D$ and $B\\subseteq D$ we have that $A\\cup B\\subseteq D$, also $B\\subseteq A$, therefore $D=A$ and $A\\cup B=A$"
   ]
  },
  {
   "cell_type": "markdown",
   "metadata": {},
   "source": [
    "#### Prove that:\n",
    "<br>\n",
    "$A \\cup B = B \\cup A$"
   ]
  },
  {
   "cell_type": "markdown",
   "metadata": {},
   "source": [
    "6) For any $D$ such that $A\\subseteq D$ and $B\\subseteq D$ we have that $A\\cup B\\subseteq D$, For any $D$ such that $B\\subseteq D$ and $A\\subseteq D$ we have that $B\\cup A\\subseteq D$, therefore $A\\cup B=B\\cup A$"
   ]
  },
  {
   "cell_type": "markdown",
   "metadata": {},
   "source": [
    "#### Prove that:\n",
    "- for every injection $m:A \\to B$ and pair of functions $f, g :C \\to A$: if $m \\circ f = m \\circ g$ then $f = g$ and vice-versa\n",
    "- for every surjection $e:A \\to B$ and every pair of functions $f, g :B \\to C$: if $f \\circ e = g \\circ e$ then $f = g$ and vice-versa"
   ]
  },
  {
   "cell_type": "markdown",
   "metadata": {},
   "source": [
    "7) $m\\circ f=m\\circ g \\Rightarrow m\\circ(f-g)=0$ because $m$ is any arbitrary injection we have that $f-g=0 \\Rightarrow f=g$"
   ]
  },
  {
   "cell_type": "markdown",
   "metadata": {},
   "source": [
    "8) $f \\circ e = g \\circ e \\Rightarrow (f-g)\\circ e=0$, because $e$ is arbitrary we have: $f-g=0 \\Rightarrow f=g$"
   ]
  },
  {
   "cell_type": "markdown",
   "metadata": {},
   "source": [
    "#### Prove that \n",
    "- composition of injections is injection itself\n",
    "- composition of surjections is surjection itself\n",
    "- composition of bijections is bijection itself\n",
    "<br>\n",
    "or give a counterexamples"
   ]
  },
  {
   "cell_type": "markdown",
   "metadata": {},
   "source": [
    "9) Let $f: X\\rightarrow Y$ and $g: Y\\rightarrow Z$ be injections. We have that for any $x_1$ and $x_2$ if $y_1=f(x_1)=f(x_2)=y_2 \\Leftrightarrow x_1=x_2$, also we have that for any $y_1$ and $y_2$ if $g\\circ f(x_1)=g(y_1)=g(y_2)=g\\circ f(x_2) \\Leftrightarrow  y_1=y_2 \\Leftrightarrow x_1=x_2$. Therefore $g\\circ f$ is injection."
   ]
  },
  {
   "cell_type": "markdown",
   "metadata": {},
   "source": [
    "10) Let $f: X\\rightarrow Y$ and $g: Y\\rightarrow Z$ be surjections. We have that for every element $x\\in X$ there exists element $y=f(x)\\in Y$ and vice versa. Also for every element $y\\in Y$ there exists $z=g(y)\\in Z$ and vice versa. Therefore for every element $x\\in X$ there exists the element $z=g\\circ f(x)\\in Z$ and vice versa. Thus $g\\circ f$ is surjection."
   ]
  },
  {
   "cell_type": "markdown",
   "metadata": {},
   "source": [
    "11) If the function is bijection then it is injection and surjection at the same time. Using theorem 9 and theorem 10 we have that composition of injections and surjections will be injection and surjection, therefore bijection, as well."
   ]
  },
  {
   "cell_type": "markdown",
   "metadata": {},
   "source": [
    "#### Prove that for each set $A$:\n",
    "- $A \\cong A$\n",
    "- if $B \\cong A$ then $A \\cong B$ for every pair of sets $A$ and $B$\n",
    "- if $A \\cong B$ and $B \\cong C$ then $A \\cong C$ for every triplet $A$, $B$ and $C$"
   ]
  },
  {
   "cell_type": "markdown",
   "metadata": {},
   "source": [
    "12) If we take the function $f:A\\rightarrow A, f(a\\in A)=a$ it will be bijection. Therefore $A\\cong A$"
   ]
  },
  {
   "cell_type": "markdown",
   "metadata": {},
   "source": [
    "13) If $B\\cong A$ there exists bijection $f:B\\rightarrow A$. Because $f$ is bijection $f^{-1}:A\\rightarrow B$ is bijection as well, therefore $A\\cong B$"
   ]
  },
  {
   "cell_type": "markdown",
   "metadata": {},
   "source": [
    "14) If $A\\cong B$ and $B\\cong C$ there exist bijections $f:A\\rightarrow B$ and $g:B\\rightarrow C$. Using theorem 11, we have that $g\\circ f:A\\rightarrow C$ is bijection as well, therefore $A\\cong C$."
   ]
  },
  {
   "cell_type": "markdown",
   "metadata": {},
   "source": [
    "#### Prove that:\n",
    "<br>\n",
    "there exists a bijection between set of natural and even numbers"
   ]
  },
  {
   "cell_type": "markdown",
   "metadata": {},
   "source": [
    "15) $f(n)=2n-1$"
   ]
  },
  {
   "cell_type": "markdown",
   "metadata": {},
   "source": [
    "#### Prove that:\n",
    "<br>\n",
    "if we have a bijection between two finite sets than they have an equal number of elements"
   ]
  },
  {
   "cell_type": "markdown",
   "metadata": {},
   "source": [
    "16) Bijection is surjection and injection at the same time. If the function $f:A\\rightarrow B$ is surjection then for any $a\\in A$ there exists $f(a)\\in B$ and vice versa. This means that if the two finite sets don't have the equal number of elements then there will exists an element which has no \"pair\", therefore the function will be neither surjection nor bijection. "
   ]
  },
  {
   "cell_type": "markdown",
   "metadata": {},
   "source": [
    "#### Prove that:\n",
    "<br>\n",
    "$A \\times B \\cong B \\times A$"
   ]
  },
  {
   "cell_type": "markdown",
   "metadata": {},
   "source": [
    "17) Let's define funtion: $f: A\\times B \\rightarrow B\\times A$. If $(a,b)\\in A\\times B$ then $f((a,b))=(b,a)$ which is obviously an element of $B\\times A$. Therefore we got: $A\\times B \\cong B\\times A$."
   ]
  },
  {
   "cell_type": "markdown",
   "metadata": {},
   "source": [
    "$\\cap_{i\\in I}A_i$ and $\\cup_{i\\in I}A_i$"
   ]
  },
  {
   "cell_type": "code",
   "execution_count": 2,
   "metadata": {},
   "outputs": [
    {
     "data": {
      "text/plain": [
       "([{2, 7, 8}, {1, 3, 5}, {1, 2, 5}, {3, 5}, {4, 5}],\n",
       " set(),\n",
       " {1, 2, 3, 4, 5, 7, 8})"
      ]
     },
     "execution_count": 2,
     "metadata": {},
     "output_type": "execute_result"
    }
   ],
   "source": [
    "# Inplement in python\n",
    "import numpy as np\n",
    "n = 5  # number of sets\n",
    "e = 5  # max number of elements in each set\n",
    "v = 10 # max value of the element\n",
    "\n",
    "sets=[set() for i in range(n)]\n",
    "for i in range(n):\n",
    "    elements = np.random.randint(1,e)\n",
    "    for j in range(elements):\n",
    "        value = np.random.randint(0,v) \n",
    "        sets[i].add(value)\n",
    "        \n",
    "isets = sets[0]\n",
    "usets = sets[0]\n",
    "for i in range(1,n):\n",
    "    isets = isets.intersection(sets[i])\n",
    "    usets = usets.union(sets[i])\n",
    "    \n",
    "sets, isets, usets\n"
   ]
  },
  {
   "cell_type": "markdown",
   "metadata": {},
   "source": [
    "We can also define cartesian product of any \"number\" of sets $\\prod_{i \\in I}{A_i}$"
   ]
  },
  {
   "cell_type": "code",
   "execution_count": 3,
   "metadata": {},
   "outputs": [
    {
     "data": {
      "text/plain": [
       "([{4, 5, 7, 9}, {6, 7, 8}, {0, 2, 4, 5}],\n",
       " {((4, 6), 0),\n",
       "  ((4, 6), 2),\n",
       "  ((4, 6), 4),\n",
       "  ((4, 6), 5),\n",
       "  ((4, 7), 0),\n",
       "  ((4, 7), 2),\n",
       "  ((4, 7), 4),\n",
       "  ((4, 7), 5),\n",
       "  ((4, 8), 0),\n",
       "  ((4, 8), 2),\n",
       "  ((4, 8), 4),\n",
       "  ((4, 8), 5),\n",
       "  ((5, 6), 0),\n",
       "  ((5, 6), 2),\n",
       "  ((5, 6), 4),\n",
       "  ((5, 6), 5),\n",
       "  ((5, 7), 0),\n",
       "  ((5, 7), 2),\n",
       "  ((5, 7), 4),\n",
       "  ((5, 7), 5),\n",
       "  ((5, 8), 0),\n",
       "  ((5, 8), 2),\n",
       "  ((5, 8), 4),\n",
       "  ((5, 8), 5),\n",
       "  ((7, 6), 0),\n",
       "  ((7, 6), 2),\n",
       "  ((7, 6), 4),\n",
       "  ((7, 6), 5),\n",
       "  ((7, 7), 0),\n",
       "  ((7, 7), 2),\n",
       "  ((7, 7), 4),\n",
       "  ((7, 7), 5),\n",
       "  ((7, 8), 0),\n",
       "  ((7, 8), 2),\n",
       "  ((7, 8), 4),\n",
       "  ((7, 8), 5),\n",
       "  ((9, 6), 0),\n",
       "  ((9, 6), 2),\n",
       "  ((9, 6), 4),\n",
       "  ((9, 6), 5),\n",
       "  ((9, 7), 0),\n",
       "  ((9, 7), 2),\n",
       "  ((9, 7), 4),\n",
       "  ((9, 7), 5),\n",
       "  ((9, 8), 0),\n",
       "  ((9, 8), 2),\n",
       "  ((9, 8), 4),\n",
       "  ((9, 8), 5)})"
      ]
     },
     "execution_count": 3,
     "metadata": {},
     "output_type": "execute_result"
    }
   ],
   "source": [
    "# Inplement in python\n",
    "import numpy as np\n",
    "n = 3  # number of sets\n",
    "e = 5  # max number of elements in each set\n",
    "v = 10 # max value of the element\n",
    "\n",
    "sets=[set() for i in range(n)]\n",
    "for i in range(n):\n",
    "    elements = np.random.randint(1,e)\n",
    "    for j in range(elements):\n",
    "        value = np.random.randint(0,v) \n",
    "        sets[i].add(value)\n",
    "        \n",
    "psets = sets[0]\n",
    "for i in range(1, n):\n",
    "    psets = {(x, y) for x in psets for y in sets[i]}\n",
    "    \n",
    "sets, psets\n"
   ]
  },
  {
   "cell_type": "markdown",
   "metadata": {},
   "source": [
    "#### Prove that:\n",
    "<br>\n",
    "$$A \\cap (B \\cup C)=(A \\cap B) \\cup (A\\cap C)$$\n",
    "$$A \\cup (B \\cap C)=(A \\cup B) \\cap (A\\cup C)$$"
   ]
  },
  {
   "cell_type": "markdown",
   "metadata": {},
   "source": [
    "18) If $x\\in A\\cap (B\\cup C)$ then we have that $x\\in A$ or $x\\in (B \\cup C) \\Rightarrow x\\in (A \\cup B) or x\\in (A \\cup C) \\Rightarrow x\\in (A\\cap B)\\cup (A\\cap C)$"
   ]
  },
  {
   "cell_type": "markdown",
   "metadata": {},
   "source": [
    "19) If $x\\in A\\cup (B\\cap C) \\Rightarrow x\\in A$ and $x\\in (B \\ or \\ C) \\Rightarrow x\\in (A\\cup B) \\ or \\ (A\\cup C) \\Rightarrow x\\in (A\\cup B)\\cap (A\\cup C)$"
   ]
  },
  {
   "cell_type": "markdown",
   "metadata": {},
   "source": [
    "# Linear Algebra"
   ]
  },
  {
   "cell_type": "markdown",
   "metadata": {},
   "source": [
    "#### Prove that:\n",
    "<br>\n",
    "$(AB)^{T} = B^{T}A^{T}$ for each pair of matrices $A\\in \\mathbb{R}^{n \\times m}, B\\in \\mathbb{R}^{m\\times p}$"
   ]
  },
  {
   "cell_type": "markdown",
   "metadata": {},
   "source": [
    "20) $(AB)^{T}_{ij}=(AB)_{ji}=\\sum_{k=1}^{m}a_{jk}b_{ki}=\\sum_{k=1}^{m}b^{T}_{ik}a^{T}_{kj}=(B^{T}A^{T})_{ij}\\Rightarrow (AB)^{T} = B^{T}A^{T}$"
   ]
  },
  {
   "cell_type": "markdown",
   "metadata": {},
   "source": [
    "## Functions on tensors"
   ]
  },
  {
   "cell_type": "markdown",
   "metadata": {},
   "source": [
    "#### Write combination for $XOR$ calculation"
   ]
  },
  {
   "cell_type": "code",
   "execution_count": null,
   "metadata": {},
   "outputs": [],
   "source": []
  }
 ],
 "metadata": {
  "kernelspec": {
   "display_name": "Python 3",
   "language": "python",
   "name": "python3"
  },
  "language_info": {
   "codemirror_mode": {
    "name": "ipython",
    "version": 3
   },
   "file_extension": ".py",
   "mimetype": "text/x-python",
   "name": "python",
   "nbconvert_exporter": "python",
   "pygments_lexer": "ipython3",
   "version": "3.7.3"
  }
 },
 "nbformat": 4,
 "nbformat_minor": 4
}
