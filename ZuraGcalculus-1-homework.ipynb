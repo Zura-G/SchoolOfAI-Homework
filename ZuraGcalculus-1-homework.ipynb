{
 "cells": [
  {
   "cell_type": "code",
   "execution_count": 1,
   "metadata": {},
   "outputs": [],
   "source": [
    "%load_ext autoreload\n",
    "%autoreload 2\n",
    "\n",
    "%matplotlib inline"
   ]
  },
  {
   "cell_type": "markdown",
   "metadata": {},
   "source": [
    "## Basic setup"
   ]
  },
  {
   "cell_type": "markdown",
   "metadata": {},
   "source": [
    "Create anaconda environment\n",
    "<br>\n",
    "```bash\n",
    "conda create -n ml python=3.7.4 jupyter\n",
    "```\n",
    "Install fastai library\n",
    "<br>\n",
    "```bash\n",
    "conda install -c pytorch -c fastai fastai\n",
    "```"
   ]
  },
  {
   "cell_type": "code",
   "execution_count": null,
   "metadata": {},
   "outputs": [],
   "source": [
    "!pip install https://github.com/ipython-contrib/jupyter_contrib_nbextensions/tarball/master\n",
    "!pip install jupyter_nbextensions_configurator\n",
    "!jupyter contrib nbextension install --user\n",
    "!jupyter nbextensions_configurator enable --user"
   ]
  },
  {
   "cell_type": "markdown",
   "metadata": {},
   "source": [
    "# Metric spaces"
   ]
  },
  {
   "cell_type": "markdown",
   "metadata": {},
   "source": [
    "#### Prove that:\n",
    "For every metric space (X, d):\n",
    "- For eny $\\mathcal{U} = \\{U | U$ is open in $(X, d)\\}$ holds $\\bigcup_{U \\in \\mathcal{U}} U$ is open in $(X, d)$\n",
    "- For eny two $U, V \\subset X$ open in $(X, d)$ holds: $U \\cap V$ is open in $(X, d)$\n",
    "- $X$ is open in $(X, d)$\n",
    "- $\\emptyset$ is open in $(X, d)$\n",
    "\n"
   ]
  },
  {
   "cell_type": "markdown",
   "metadata": {},
   "source": [
    "1) Let $V=\\bigcup_{U \\in \\mathcal{U}} U$. We know that for any $x \\in U$ there exists $r>0$ such that $B(x, r) \\subset U$. For any $U\\in\\mathcal{U} \\Rightarrow  U\\subset V$. For any $x \\in V$ there exists subset $U' \\subset V \\ and \\ U' \\in \\mathcal{U}$ such that $x \\in U'  \\Rightarrow $ there exists $r>0$ such that $B(x,r) \\subset U' \\subset V$. Thus $V$ is open.\n"
   ]
  },
  {
   "cell_type": "markdown",
   "metadata": {},
   "source": [
    "2) Let $W=U\\cap V$. Let $x\\in W$. It implies that $x \\in U$ and $ x\\in V$. Because of the fact that $U$ and $V$ are open, there exists $r_{1}>0$ such that $B_{1}(x,r_{1}) \\in U$ and $r_{2}>0$ such that $B_{2}(x,r_{2}) \\in V$. Let's take $r=min(r_{1},r_{2})$ and take $B'(x,r)$. For any $x' \\in B'$ we have that $d(x,x')<r\\leq r_{1} \\ \\Rightarrow x' \\in U$. We also have that $d(x,x')<r\\leq r_{2} \\ \\Rightarrow x' \\in V$. Thus $x'\\in W \\Rightarrow B'(x,r) \\in W$. Therefore $W$ is open."
   ]
  },
  {
   "cell_type": "markdown",
   "metadata": {},
   "source": [
    "3) Let $x \\in X$. Let's take some open $U\\subset X$ such that $x \\in U$. There exists $r>0$ such that $B(x,r)\\subset U$.Therefore $B(x,r) \\subset X$. Thus $X$ is open in $(X,d)$."
   ]
  },
  {
   "cell_type": "markdown",
   "metadata": {},
   "source": [
    "4) By definition open set is the one such that for all of it's points there exists an open ball. Because of the fact that empty set has no points, there exists an open ball for any of the element of the empty set. Therefore empty set is open."
   ]
  },
  {
   "cell_type": "markdown",
   "metadata": {},
   "source": [
    "#### Prove that:\n",
    "- For eny finity set $(U)_{i=1}^{n}$ of open sets in $(X, d)$, $\\bigcap_{i=1}^{n}U$ is open in $(X, d)$"
   ]
  },
  {
   "cell_type": "markdown",
   "metadata": {},
   "source": [
    "5) Let $W=\\bigcap_{i=1}^{n}U$. Let $x \\in W \\Rightarrow x\\in U_{1}, x\\in U_{2} , ... , x\\in U_{n}$. Now as any arbitrary $U_{i}$ is open, there exist $r_{i}>0$ such that $B_{i}(x,r_{i}) \\in U_{i}$. Let's take $r=min(r_{1}, r_{2},...,r_{n})$ and let's take $B'(x,r)$. For any $x' \\in B(x,r)$ and for any arbitrary $r_{i}$ we have that $d(x,x')<r\\leq r_{i} \\Rightarrow x'\\in U_{i} \\Rightarrow B' \\in U_{i} \\Rightarrow B' \\in W$. Thus $W$ is open."
   ]
  },
  {
   "cell_type": "markdown",
   "metadata": {},
   "source": [
    "#### Prove that for set $U \\subset X$ is open if and only if for each point $x \\in U$ there exists the open neighbourhood $V$ of $x$ such that $V \\subset U$"
   ]
  },
  {
   "cell_type": "markdown",
   "metadata": {},
   "source": [
    "6) \n",
    "- Let's prove the first part of the theorem. If $V$ is the open neighbourhood of the point $x\\in U$, then we know that $x \\in V$, $V \\subset U$ and there exists $r>0$ such that $B(x,r)\\subset V \\ \\Rightarrow B(x,r)\\subset U$. Thus $U$ is open.\n",
    "- Now let's prove the second part of the theorem. If $U$ is open, then we know that for any $x\\in U$ there exists $r>0$ such that $B(x,r)\\subset U$. Therefore, for any point $x\\in U$ there exists an open subset $V=B(x,r) \\subset U$ such that contains $x$.\n"
   ]
  },
  {
   "cell_type": "markdown",
   "metadata": {},
   "source": [
    "#### Prove that, closed ball is closed subset in $(X, d)$\n"
   ]
  },
  {
   "cell_type": "markdown",
   "metadata": {},
   "source": [
    "7) Let $B[x,r]$ be closed ball in $X$. We know that a subset $F$ is closed if $X-F$ is open. So we have to prove now that $(X-B[x,r])\\equiv \\bar{B}$ is open subset. Lets take any point $y\\in \\bar{B}$. We know that there exists a point $z\\in B$ such that satisfies: $d(x,z)=r$ and $d(x,y)=d(x,z)+d(z,y)$. Now if take $r'=d(x,y)-r$ we get that there exists an open ball $B'(y,r')\\subset \\bar{B}$ for any $y\\in \\bar{B}$. Therefore $\\bar{B}$ is open. Therefore $B[x,r]$ closed ball is closed subset."
   ]
  },
  {
   "cell_type": "markdown",
   "metadata": {},
   "source": [
    "#### Prove that\n",
    "For every metric space (X, d):\n",
    "- For eny $\\mathcal{F} = \\{F | F$ is closed in $(X, d)\\}$ holds $\\bigcap_{F \\in \\mathcal{F}} F$ is closed in $(X, d)$\n",
    "- For eny two $F_1, F_2 \\subset X$ closed in $(X, d)$ holds: $F_1 \\cup F_2$ is closed in $(X, d)$\n",
    "- $X$ is closed in $(X, d)$\n",
    "- $\\emptyset$ is closed in $(X, d)$"
   ]
  },
  {
   "cell_type": "markdown",
   "metadata": {},
   "source": [
    "8) Proving that $G=X-(\\bigcap_{F \\in \\mathcal{F}} F)$ is open automatically proves our theorem. Previously we proved that for any $\\mathcal{U} = \\{U | U$ is open in $(X, d)\\}$ holds $\\bigcup_{U \\in \\mathcal{U}} U$ is open in $(X, d)$ (theorem 1). Now for any closed subset $F\\in \\mathcal{F}$ the subset $F'=X-F$ is open. Now let's create set $\\mathcal{G}=\\left \\{  F'|F' \\ is \\ open \\ in \\ (X,d)\\right \\}$. We have that $\\bigcup_{F' \\in \\mathcal{G}} F'$ is open in $(X,d)$. But $F'=X-F$ $\\Rightarrow$ $\\bigcup_{F'\\in \\mathcal{G}}(X-F)=X-(\\bigcap_{F \\in \\mathcal{F}}F)= G$ is open. "
   ]
  },
  {
   "cell_type": "markdown",
   "metadata": {},
   "source": [
    "9) Our theorem will be proved if we prove that for $F=F_{1}\\cup F_{2}$ $F'=X-F$ is open. If we denote: $F'_{1}=X-F_{1}, \\ F'_{2}=X-F_{2}$ we have that $F'=X-F=X-(F_{1}\\cup F_{2})=(X-F_{1})\\cap (X-F_{2})=F'_{1}\\cap F'_{2}$. Because $F_{1}$ and $F_{2}$ are closed $F'_{1}$ and $F'_{2}$ are open. Therefore, using (theorem 2), we have that $F'$ is open. Thus $F$ is closed."
   ]
  },
  {
   "cell_type": "markdown",
   "metadata": {},
   "source": [
    "10) We proved that $\\emptyset$ is open in (X,d). (theorem 4). Because $X=X-\\emptyset \\Rightarrow \\ X$ is closed in $(X,d)$."
   ]
  },
  {
   "cell_type": "markdown",
   "metadata": {},
   "source": [
    "11) We showed that $X$ is open in $(X,d)$ (theorem 3). Also $\\emptyset=X-X$. Therefore $\\emptyset$ is closed in $(X,d)$."
   ]
  },
  {
   "cell_type": "markdown",
   "metadata": {},
   "source": [
    "#### Prove that:\n",
    "- For eny finity set $(F)_{i=1}^{n}$ of closed sets in $(X, d)$, $\\bigcup_{i=1}^{n}F$ is closed in $(X, d)$"
   ]
  },
  {
   "cell_type": "markdown",
   "metadata": {},
   "source": [
    "12) Analogically to theorem 9 if we prove that $F'=X-(\\bigcup_{i=1}^{n}F)$ is open the proof of our theorem is trivial. Again denote for any $i=1,2,...,n$ $F'_{i}=X-F_{i}$. Then because $F_{i}$ is closed for any $i$, $F'_{i}$ is open. Now we have that $F'=X-(\\bigcup_{i=1}^{n}F)=\\bigcap_{i=1}^{n}(X-F_{i})=\\bigcap_{i=1}^{n}F'_{i}$. Therefore, using theorem 5, we see that $F'$ is open. $Q.E.D.$"
   ]
  },
  {
   "cell_type": "markdown",
   "metadata": {},
   "source": [
    "#### Prove that, if $F \\subset X$ is closed then $X - F$ is open in $(X, d)$ "
   ]
  },
  {
   "cell_type": "markdown",
   "metadata": {},
   "source": [
    "13) We got that $F\\subset X$ is closed if $X-F$ is open in $(X,d)$. Therefore, if $F$ is closed $X-F$ must be open in $(X,d)$."
   ]
  },
  {
   "cell_type": "markdown",
   "metadata": {},
   "source": [
    "# Metrics in Euclidean spaces"
   ]
  },
  {
   "cell_type": "markdown",
   "metadata": {},
   "source": [
    "#### Prove that:\n",
    "- for every $u, v \\in \\mathbb{R}^{n}$: $d(u, v) \\geq 0$\n",
    "- for every $v \\in \\mathbb{R}^{n}$: $d(v, v) = 0$\n",
    "- for every $u, v \\in \\mathbb{R}^{n}$: $d(u, v) = d(v, u)$ (symmetry)\n",
    "- for every $u, v, w \\in \\mathbb{R}^{n}$: $d(u, w) \\leq d(v, u) + d(v, w)$ (triangle inequality)"
   ]
  },
  {
   "cell_type": "markdown",
   "metadata": {},
   "source": [
    "14) lets take $u=(u_{1},u_{2},...,u_{n})$ and $v=(v_{1},v_{2},...,v_{n})$ ($u\\neq v$). Then $d(u,v)=\\sqrt {\\sum_{i=1}^{n}(u_{i}-v_{i})^2}>0$. "
   ]
  },
  {
   "cell_type": "markdown",
   "metadata": {},
   "source": [
    "15) lets take $v=(v_{1},v_{2},...,v_{n})$. then $d(v,v)=\\sqrt {\\sum_{i=1}^{n}(v_{i}-v_{i})^2}=0$."
   ]
  },
  {
   "cell_type": "markdown",
   "metadata": {},
   "source": [
    "16) lets take $u=(u_{1},u_{2},...,u_{n})$ and $v=(v_{1},v_{2},...,v_{n})$ . Then $d(u,v)=\\sqrt {\\sum_{i=1}^{n}(u_{i}-v_{i})^2}=\\sqrt {\\sum_{i=1}^{n}(v_{i}-u_{i})^2}=d(v,u)$. "
   ]
  },
  {
   "cell_type": "markdown",
   "metadata": {},
   "source": [
    "17) lets take $u=(u_{1},u_{2},...,u_{n})$ , $v=(v_{1},v_{2},...,v_{n})$ and $w=(w_{1},w_{2},...,w_{n})$ .\n",
    "$d(u,v)=\\sqrt {\\sum_{i=1}^{n}(u_{i}-v_{i})^2}=\\sqrt{\\sum_{i=1}^{n}(u_{i}-w_{i}+w_{i}-v_{i})^2}=\\sqrt{\\sum_{i=1}^{n}((u_{i}-w_{i})-(v_{i}-w_{i}))^2}\\leq \\sqrt{\\sum_{i=1}^{n}(u_{i}-w_{i})^2+\\sum_{i=1}^{n}(v_{i}-w_{i})^2} \\leq \\sqrt{\\sum_{i=1}^{n}(u_{i}-w_{i})^2}+\\sqrt{\\sum_{i=1}^{n}(v_{i}-w_{i})^2}=d(u,w)+d(v,w)$"
   ]
  },
  {
   "cell_type": "markdown",
   "metadata": {},
   "source": [
    "#### Prove the same properties hold for $d(u, v) = ||u-v||_1$ ($||u-v||_1 = \\sum_{i = 1}^{n}|u_i - v_i|$)"
   ]
  },
  {
   "cell_type": "markdown",
   "metadata": {},
   "source": [
    "18) $d(u, v)= \\sum_{i = 1}^{n}|u_i - v_i|>0$"
   ]
  },
  {
   "cell_type": "markdown",
   "metadata": {},
   "source": [
    "19) $d(v, v)= \\sum_{i = 1}^{n}|v_i - v_i|=0$"
   ]
  },
  {
   "cell_type": "markdown",
   "metadata": {},
   "source": [
    "20) $d(u, v)= \\sum_{i = 1}^{n}|u_i - v_i|=\\sum_{i = 1}^{n}|v_i - u_i|=d(v,u)$"
   ]
  },
  {
   "cell_type": "markdown",
   "metadata": {},
   "source": [
    "21) $d(u,v)=\\sum_{i = 1}^{n}|u_i - v_i|=\\sum_{i = 1}^{n}|u_i-w_i+w_i - v_i|\\leq \\sum_{i = 1}^{n}|u_i - w_i| +\\sum_{i = 1}^{n}|w_i - v_i|=d(u,w)+d(w,v)   $"
   ]
  },
  {
   "cell_type": "markdown",
   "metadata": {},
   "source": [
    "## Sequences and limits"
   ]
  },
  {
   "cell_type": "markdown",
   "metadata": {},
   "source": [
    "#### Prove that $x = \\lim_{n\\to\\infty}{x_n}$ in $(X, d)$ if and only if (iff) for every $r \\in \\mathbb{R}$ there exists $n_0 \\in \\mathbb{N}$ such that: $x_i \\in B(x, r)$ for every $i \\gt n_0$"
   ]
  },
  {
   "cell_type": "markdown",
   "metadata": {},
   "source": [
    "22) From the definition we got: We say that point $x \\in X$ is a limit of the sequence $(x_i)_{i=1}^{\\infty}$ and write $\\lim_{n \\to \\infty}{x_n} = x$ if for every open set $U \\in X$ such that $x \\in U$ there exists $n_0 \\in \\mathbb{N}$ such that $x_i \\in U$ for every $i \\gt n_0$. Because $U$ is open there exists $r>0$ such that $B(x,r)\\subset U$ , therefore there exists $n_0 \\in \\mathbb{N}$ such that for every $i>n_0$ $x_i\\in B(x,r)$"
   ]
  },
  {
   "cell_type": "markdown",
   "metadata": {},
   "source": [
    "#### Prove that if $x = \\lim_{n\\to\\infty}{x_n}$ and $x \\notin \\{-\\infty, \\infty\\}$ then $(x_i)_{i=1}^{\\infty} = (x_1, x_2, \\dots, x_n)$ is a Cauchy sequence\n",
    "<br>\n",
    "For closed set $F \\subset \\mathbb{R}^n$ and convergent sequence $(x_i)_{i=1}^{\\infty} = (x_1, x_2, \\dots, x_n)$ such that there exists $n_0 \\in \\mathbb{N}$ such that $x_i \\in F$ for each $i \\gt n_0$ then: $\\lim_{n\\to\\infty}{x_n} \\in F$"
   ]
  },
  {
   "cell_type": "markdown",
   "metadata": {},
   "source": [
    "23) A sequence $(x_i)_{i=1}^{\\infty} = (x_1, x_2, \\dots, x_i,...)$ is a Cauchy sequence if for any arbitrary  $\\varepsilon>0$ there exists $n_0\\in \\mathbb{N}$ such that for any $n,m>n_0$ we have $|x_n-x_m|<  \\varepsilon $. From the definition of limit we got that if $x = \\lim_{n\\to\\infty}{x_n}$ that means that for any arbitrary $\\varepsilon>0$ there exists $n_0\\in \\mathbb{N}$ such that for any $n>n_0$ we got $|x-x_n|<\\varepsilon/3$ and for any $m>n_0$ we got $|x-x_m|<\\varepsilon/3$. If we add up this two inequalities we get: $|x-x_n|+|x_m-x|\\leq |x-x_n-x+x_m|=|x_n-x_m|\\leq 2\\varepsilon/3<\\varepsilon$"
   ]
  },
  {
   "cell_type": "markdown",
   "metadata": {},
   "source": [
    "24) Let's assume that there isn't any $x=\\lim_{n \\to \\infty}x_n\\in F$. Let's now take the same sequence without the first member: $F_{1} \\subseteq F$, now let's continue this process and we get infinitial sequence of subsets: $F\\supseteq F_1\\supseteq F_2\\supseteq ... \\supseteq F_i\\supseteq ...$. From the one of the fundamental theorems of analysis we know that all of the sets from the sequence have at least one same common point, but our assumption was that there shouldn't be any such point, therefore there exists point $x=\\lim_{n \\to \\infty}x_n\\in F$."
   ]
  },
  {
   "cell_type": "markdown",
   "metadata": {},
   "source": [
    "#### Prove that if $F$ is open from previous example, statement does not hold. "
   ]
  },
  {
   "cell_type": "markdown",
   "metadata": {},
   "source": [
    "25) let's take the sequence: $(x_n)_{n=1}^{\\infty}=\\{x_n|x_n=1/n\\}=(1,1/2,1/3,1/4,...,1/n,...)$. let $F=(0,1)$ open set. It's easy to see that every element of sequence is in $F$, but $\\lim_{n \\to \\infty }x_n=0\\notin F$."
   ]
  },
  {
   "cell_type": "markdown",
   "metadata": {},
   "source": [
    "#### Prove that inherited metric is a metric"
   ]
  },
  {
   "cell_type": "markdown",
   "metadata": {},
   "source": [
    "26) Because all points from the subspace are also in the space, all of them satisfy the requirements for the metric space in the \"parent\" space, therefore they satisfy these requirements in the inherited space as well."
   ]
  },
  {
   "cell_type": "markdown",
   "metadata": {},
   "source": [
    "## Limits of functions"
   ]
  },
  {
   "cell_type": "markdown",
   "metadata": {},
   "source": [
    "Let $f:S \\to Y$ is function between subset $S \\subset X$ of a metric space $(X, d_x)$ and metric space $(Y, d_Y)$\n",
    "- We say that the limit of function $f:(S, d_x) \\to (Y, d_Y)$ between metric spaces in some limit point $c \\in X$ of the subset $S$ is $y \\in Y $if for each open neighborhood of $y \\in V \\subset Y$ there exists the open seighborhood of $c \\in U \\subset X$ such that $f(U \\cap S) \\subset V$\n",
    "<br>\n",
    "This definition is equiualent of definition:\n",
    "<br>\n",
    "- The limit of function $f:(S, d_X) \\to (Y, d_Y)$ between metric spaces in limit point $c \\in X$ of the subset $S$ is $y \\in Y $ if for each open ball $B(x, r) \\subset Y$ there exists the ball $B(c, l) \\subset X$ such that $f(B(c, l) \\cap S) \\subset B(y, r)$\n",
    "<br>\n",
    "or\n",
    "<br>\n",
    "- The limit of function $f:(S, d_X) \\to (Y, d_Y)$ between metric spaces in limit point $c \\in X$ of subset $S$ is $y \\in Y $ if for any $r \\in \\mathbb{R}$ there exists $l \\in \\mathbb{R}$ such that for every $x \\in S$ with $d_X(x, c) < l$ implies that $d_Y(f(x), y) < r$"
   ]
  },
  {
   "cell_type": "markdown",
   "metadata": {},
   "source": [
    "#### Prove that this three definitions are equiualent for eny function between eny two metric spaces"
   ]
  },
  {
   "cell_type": "markdown",
   "metadata": {},
   "source": [
    "27) The definitions of open ball and open neighbourhood are quite the same, taken that when we talk in def1 every $\\varepsilon$ is the same as $r$ radius of the ball in def2, because both are arbitrary, we always can take them equal. Therefore def1 and def2 are equiualent. Now the third definition is just demostration of the definition of the open ball. Thus all three are equivalent."
   ]
  },
  {
   "cell_type": "markdown",
   "metadata": {},
   "source": [
    "## Continuous functions "
   ]
  },
  {
   "cell_type": "markdown",
   "metadata": {},
   "source": [
    "#### Prove that function is continuous in $c$ if for eny sequence $(x_n)_{n=1}^{\\infty} \\subset X$ such that $\\lim_{n \\to \\infty}x_n = c$ we have $\\lim_{n \\to \\infty}f(x_n) = f(c)$"
   ]
  },
  {
   "cell_type": "markdown",
   "metadata": {},
   "source": [
    "28) Function $f$ is continuous in $c$ means that for any $\\varepsilon>0$ there exists $\\delta>0$ such that for any $x$ such that $d(x,c)<\\delta$ we got $d(f(x),f(c))<\\varepsilon$. Now because we have the sequence limit we can say that for any $\\varepsilon>0$ and any $n_0\\in \\mathbb{N}$ there exists $\\delta>0$ such that for any $n>n_0$ there holds $d(c,x_n)<\\delta$ and $d(f(c),f(x_n))<\\varepsilon$. In other words for evety open neighbourhood of $f(c)\\in O_\\varepsilon (f(c))\\subset Y$ there exists the open neighbourhood of $c\\in O_\\delta (c)\\subset X$ such that $F(O_\\delta (c))\\subset O_\\varepsilon (f(c))$.\n"
   ]
  },
  {
   "cell_type": "markdown",
   "metadata": {},
   "source": [
    "#### Prove that function is continuous if for every open set $V \\subset Y$ the $f^{-1}(V)$ is open in $X$"
   ]
  },
  {
   "cell_type": "markdown",
   "metadata": {},
   "source": [
    "29) If for every open neighbourhood of $y=f(c)\\in V\\subset Y$ there exists the open neighbourhood of $c\\in U\\subset X$ the function $f$ is continuous. Now let's take $U=f^{-1}(V)$. Therefore we got our theorem proven."
   ]
  },
  {
   "cell_type": "markdown",
   "metadata": {},
   "source": [
    "#### Prove that function is continuous if for every closed set $F \\subset Y$ the $f^{-1}(F)$ is open in $X$"
   ]
  },
  {
   "cell_type": "markdown",
   "metadata": {},
   "source": [
    "30) ???"
   ]
  },
  {
   "cell_type": "markdown",
   "metadata": {},
   "source": [
    "#### Prove that any composition of continous functions is continous"
   ]
  },
  {
   "cell_type": "markdown",
   "metadata": {},
   "source": [
    "31) Suppose we have two continuous functions: $f: X \\rightarrow Y$ and $g: Y \\rightarrow Z$. This means that for any open neighbourhood $T$ of $z=g(y)\\in Z$ there exists an open neighbourhood $V$ of $y\\in Y$ such that $g(V\\cap Y)\\subset T$. Also for any neighbourhood $V$ of $y=f(x)\\in Y$ there exists an open neighbourhood $U$ of $x\\in X$ such that $f(U\\cap X)\\subset V$. Therefore, for any open neighbourhood $T$ of $z=g\\circ f(x)\\in Z$ there exists the open neighbourhood $U$ of $x\\in X$ such that $g\\circ f(U\\cap X)\\subset T$. Thus $g\\circ f$ is contnuous."
   ]
  }
 ],
 "metadata": {
  "kernelspec": {
   "display_name": "Python 3",
   "language": "python",
   "name": "python3"
  },
  "language_info": {
   "codemirror_mode": {
    "name": "ipython",
    "version": 3
   },
   "file_extension": ".py",
   "mimetype": "text/x-python",
   "name": "python",
   "nbconvert_exporter": "python",
   "pygments_lexer": "ipython3",
   "version": "3.7.3"
  }
 },
 "nbformat": 4,
 "nbformat_minor": 4
}
